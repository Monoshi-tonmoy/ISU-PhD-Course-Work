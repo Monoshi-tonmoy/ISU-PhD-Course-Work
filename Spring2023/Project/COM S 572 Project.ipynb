{
 "cells": [
  {
   "cell_type": "code",
   "execution_count": 27,
   "metadata": {},
   "outputs": [
    {
     "name": "stdout",
     "output_type": "stream",
     "text": [
      "Collecting googletrans==4.0.0-rc1Note: you may need to restart the kernel to use updated packages.\n",
      "  Downloading https://files.pythonhosted.org/packages/fa/0d/a5fe8fb53dbf401f8a34cef9439c4c5b8f5037e20123b3e731397808d839/googletrans-4.0.0rc1.tar.gz\n",
      "Requirement already satisfied: httpx==0.13.3 in c:\\users\\asus\\appdata\\local\\programs\\python\\python37\\lib\\site-packages (from googletrans==4.0.0-rc1) (0.13.3)\n",
      "Requirement already satisfied: rfc3986<2,>=1.3 in c:\\users\\asus\\appdata\\local\\programs\\python\\python37\\lib\\site-packages (from httpx==0.13.3->googletrans==4.0.0-rc1) (1.5.0)\n",
      "Requirement already satisfied: certifi in c:\\users\\asus\\appdata\\local\\programs\\python\\python37\\lib\\site-packages (from httpx==0.13.3->googletrans==4.0.0-rc1) (2020.6.20)\n",
      "Requirement already satisfied: sniffio in c:\\users\\asus\\appdata\\local\\programs\\python\\python37\\lib\\site-packages (from httpx==0.13.3->googletrans==4.0.0-rc1) (1.3.0)\n",
      "Requirement already satisfied: idna==2.* in c:\\users\\asus\\appdata\\roaming\\python\\python37\\site-packages (from httpx==0.13.3->googletrans==4.0.0-rc1) (2.10)\n",
      "Requirement already satisfied: hstspreload in c:\\users\\asus\\appdata\\local\\programs\\python\\python37\\lib\\site-packages (from httpx==0.13.3->googletrans==4.0.0-rc1) (2023.1.1)\n",
      "Requirement already satisfied: httpcore==0.9.* in c:\\users\\asus\\appdata\\local\\programs\\python\\python37\\lib\\site-packages (from httpx==0.13.3->googletrans==4.0.0-rc1) (0.9.1)\n",
      "Requirement already satisfied: chardet==3.* in c:\\users\\asus\\appdata\\roaming\\python\\python37\\site-packages (from httpx==0.13.3->googletrans==4.0.0-rc1) (3.0.4)\n",
      "Requirement already satisfied: h11<0.10,>=0.8 in c:\\users\\asus\\appdata\\local\\programs\\python\\python37\\lib\\site-packages (from httpcore==0.9.*->httpx==0.13.3->googletrans==4.0.0-rc1) (0.9.0)\n",
      "Requirement already satisfied: h2==3.* in c:\\users\\asus\\appdata\\local\\programs\\python\\python37\\lib\\site-packages (from httpcore==0.9.*->httpx==0.13.3->googletrans==4.0.0-rc1) (3.2.0)\n",
      "\n"
     ]
    },
    {
     "name": "stderr",
     "output_type": "stream",
     "text": [
      "You are using pip version 19.0.3, however version 23.1.1 is available.\n",
      "You should consider upgrading via the 'python -m pip install --upgrade pip' command.\n"
     ]
    },
    {
     "name": "stdout",
     "output_type": "stream",
     "text": [
      "Requirement already satisfied: hpack<4,>=3.0 in c:\\users\\asus\\appdata\\local\\programs\\python\\python37\\lib\\site-packages (from h2==3.*->httpcore==0.9.*->httpx==0.13.3->googletrans==4.0.0-rc1) (3.0.0)\n",
      "Requirement already satisfied: hyperframe<6,>=5.2.0 in c:\\users\\asus\\appdata\\local\\programs\\python\\python37\\lib\\site-packages (from h2==3.*->httpcore==0.9.*->httpx==0.13.3->googletrans==4.0.0-rc1) (5.2.0)\n",
      "Building wheels for collected packages: googletrans\n",
      "  Building wheel for googletrans (setup.py): started\n",
      "  Building wheel for googletrans (setup.py): finished with status 'done'\n",
      "  Stored in directory: C:\\Users\\ASUS\\AppData\\Local\\pip\\Cache\\wheels\\09\\32\\56\\fd8940f1b3c1d77c9f91b55597c52a4d4833b000a980bb0740\n",
      "Successfully built googletrans\n",
      "Installing collected packages: googletrans\n",
      "  Found existing installation: googletrans 3.0.0\n",
      "    Uninstalling googletrans-3.0.0:\n",
      "      Successfully uninstalled googletrans-3.0.0\n",
      "Successfully installed googletrans-4.0.0rc1\n"
     ]
    }
   ],
   "source": [
    "pip install googletrans==4.0.0-rc1"
   ]
  },
  {
   "cell_type": "code",
   "execution_count": 29,
   "metadata": {},
   "outputs": [
    {
     "name": "stdout",
     "output_type": "stream",
     "text": [
      "      Unique ID                                               Post  \\\n",
      "0             1  कीस की को रोजगार चाहिए फिर नहीं कहना रोजगार नह...   \n",
      "1             2  पटना: BMP कैंप में पुरुष और महिला कांस्टेबल ने...   \n",
      "2             3  कोई भी कांग्रेसी, ऊंची छत पर, रेलवे लाइन पर, ऊ...   \n",
      "3             4  अंडरवर्ल्ड डॉन छोटा राजन के भाई को बीजेपी द्वा...   \n",
      "4             5  RT @_Pb_swain_: इन पंचर छापों को कोन समझाए कि ...   \n",
      "...         ...                                                ...   \n",
      "1648       1649  सोनू सूद से प्रेरणा लेकर आदिवासियों ने वो किया...   \n",
      "1649       1650  RT @ShilpiSinghINC: उमर खालिद पर तो UAPA लगा द...   \n",
      "1650       1651                           @RahulGandhi पप्पू कमीना   \n",
      "1651       1652  मदर टेरेसा ने अपना पूरा जीवन पीड़ितों की सेवा ...   \n",
      "1652       1653  आईपीएल में कोरोना का डर: रैना के हटने के बाद ह...   \n",
      "\n",
      "                     Labels Set  \n",
      "0     defamation,fake,offensive  \n",
      "1                   non-hostile  \n",
      "2                          hate  \n",
      "3                          fake  \n",
      "4                    defamation  \n",
      "...                         ...  \n",
      "1648                non-hostile  \n",
      "1649                       hate  \n",
      "1650                  offensive  \n",
      "1651                non-hostile  \n",
      "1652                non-hostile  \n",
      "\n",
      "[1653 rows x 3 columns]\n"
     ]
    }
   ],
   "source": [
    "# read by default 1st sheet of an excel file\n",
    "import pandas as pd\n",
    "\n",
    "dataframe1 = pd.read_excel('Test Set Complete.xlsx')\n",
    " \n",
    "print(dataframe1)"
   ]
  },
  {
   "cell_type": "code",
   "execution_count": 33,
   "metadata": {},
   "outputs": [
    {
     "name": "stdout",
     "output_type": "stream",
     "text": [
      "Collecting deep_translator\n",
      "  Downloading https://files.pythonhosted.org/packages/cc/e3/2d13775afa82c8dffb9b59c9283bc0deb0ce167abb7ff75ed7a5fa3dbcb8/deep_translator-1.10.1-py3-none-any.whl\n",
      "Collecting beautifulsoup4<5.0.0,>=4.9.1 (from deep_translator)\n",
      "  Downloading https://files.pythonhosted.org/packages/57/f4/a69c20ee4f660081a7dedb1ac57f29be9378e04edfcb90c526b923d4bebc/beautifulsoup4-4.12.2-py3-none-any.whl (142kB)\n",
      "Requirement already satisfied, skipping upgrade: requests<3.0.0,>=2.23.0 in c:\\users\\asus\\appdata\\roaming\\python\\python37\\site-packages (from deep_translator) (2.24.0)\n",
      "Collecting soupsieve>1.2 (from beautifulsoup4<5.0.0,>=4.9.1->deep_translator)\n",
      "  Downloading https://files.pythonhosted.org/packages/49/37/673d6490efc51ec46d198c75903d99de59baffdd47aea3d071b80a9e4e89/soupsieve-2.4.1-py3-none-any.whl\n",
      "Requirement already satisfied, skipping upgrade: chardet<4,>=3.0.2 in c:\\users\\asus\\appdata\\roaming\\python\\python37\\site-packages (from requests<3.0.0,>=2.23.0->deep_translator) (3.0.4)\n",
      "Requirement already satisfied, skipping upgrade: idna<3,>=2.5 in c:\\users\\asus\\appdata\\roaming\\python\\python37\\site-packages (from requests<3.0.0,>=2.23.0->deep_translator) (2.10)\n",
      "Requirement already satisfied, skipping upgrade: urllib3!=1.25.0,!=1.25.1,<1.26,>=1.21.1 in c:\\users\\asus\\appdata\\roaming\\python\\python37\\site-packages (from requests<3.0.0,>=2.23.0->deep_translator) (1.25.10)\n",
      "Requirement already satisfied, skipping upgrade: certifi>=2017.4.17 in c:\\users\\asus\\appdata\\local\\programs\\python\\python37\\lib\\site-packages (from requests<3.0.0,>=2.23.0->deep_translator) (2020.6.20)\n",
      "Installing collected packages: soupsieve, beautifulsoup4, deep-translator\n",
      "Successfully installed beautifulsoup4-4.12.2 deep-translator-1.10.1 soupsieve-2.4.1\n",
      "Note: you may need to restart the kernel to use updated packages.\n"
     ]
    },
    {
     "name": "stderr",
     "output_type": "stream",
     "text": [
      "You are using pip version 19.0.3, however version 23.1.1 is available.\n",
      "You should consider upgrading via the 'python -m pip install --upgrade pip' command.\n"
     ]
    }
   ],
   "source": [
    "pip install -U deep_translator"
   ]
  },
  {
   "cell_type": "code",
   "execution_count": 35,
   "metadata": {},
   "outputs": [],
   "source": [
    "dataframe=dataframe1[:30]"
   ]
  },
  {
   "cell_type": "code",
   "execution_count": 36,
   "metadata": {},
   "outputs": [
    {
     "name": "stderr",
     "output_type": "stream",
     "text": [
      "c:\\users\\asus\\appdata\\local\\programs\\python\\python37\\lib\\site-packages\\ipykernel_launcher.py:6: SettingWithCopyWarning: \n",
      "A value is trying to be set on a copy of a slice from a DataFrame.\n",
      "Try using .loc[row_indexer,col_indexer] = value instead\n",
      "\n",
      "See the caveats in the documentation: https://pandas.pydata.org/pandas-docs/stable/user_guide/indexing.html#returning-a-view-versus-a-copy\n",
      "  \n"
     ]
    }
   ],
   "source": [
    "from deep_translator import GoogleTranslator\n",
    "\n",
    "def translate_text(text):\n",
    "    return GoogleTranslator(source='auto', target='en').translate(text)\n",
    "\n",
    "dataframe['translated_Language'] = dataframe['Post'].apply(lambda x: translate_text(x))"
   ]
  },
  {
   "cell_type": "code",
   "execution_count": 37,
   "metadata": {},
   "outputs": [
    {
     "name": "stdout",
     "output_type": "stream",
     "text": [
      "    Unique ID                                               Post  \\\n",
      "0           1  कीस की को रोजगार चाहिए फिर नहीं कहना रोजगार नह...   \n",
      "1           2  पटना: BMP कैंप में पुरुष और महिला कांस्टेबल ने...   \n",
      "2           3  कोई भी कांग्रेसी, ऊंची छत पर, रेलवे लाइन पर, ऊ...   \n",
      "3           4  अंडरवर्ल्ड डॉन छोटा राजन के भाई को बीजेपी द्वा...   \n",
      "4           5  RT @_Pb_swain_: इन पंचर छापों को कोन समझाए कि ...   \n",
      "5           6  पश्चिम बंगाल में फिर हुई माओवादियों की वापसी, ...   \n",
      "6           7  #Breaking-कंगना मामले पर बोले मनोज तिवारी-कहा ...   \n",
      "7           8  @BasudebaTripat4: @Rajanspsingh1 अच्छा किया सा...   \n",
      "8           9  हैदराबाद बीजेपी विधायक राजा सिंह की बहन माया द...   \n",
      "9          10  कमलनाथ के राज में 100,₹ में 100यूनिट बिजली मिल...   \n",
      "10         11  दाऊद इब्राहिम और उसकी पत्नि की कोरोना संक्रमण ...   \n",
      "11         12  मोदी जी ने कोई ऐसा काम नहीं किया जिससे कुर्सी ...   \n",
      "12         13  #Lucknow ट्रक की टक्कर से 2 लोग घायल, महिला की...   \n",
      "13         14  @Dr_Uditraj @INCIndia मोदी देशद्रोही चोर की औल...   \n",
      "14         15  @ishiviparihar @Baklol801 सुन कमीनी तेरे से अच...   \n",
      "15         16  BMC की अपील: अगले सात दिनों तक गरम पानी का सेव...   \n",
      "16         17  \"मैं कोई विरासत नहीं छोड़ना चाहता क्योंकि यह ल...   \n",
      "17         18  मुकेश सहनी ने CM नीतीश कुमार को दी चुनौती, कहा...   \n",
      "18         19  हर रोज जान देनी पड़ती हैं, \\nसीमा पर पहरेदारों...   \n",
      "19         20  @AMISHDEVGAN कुत्ते के....... पी?? तू बीजेपी ज...   \n",
      "20         21  पटना: लालू, तेजस्वी को एक और झटका, तेघड़ा राजद...   \n",
      "21         22  कश्मीर के लोगों पर हो रहे ज़ुल्म के खिलाफ आवाज...   \n",
      "22         23  स्‍वास्‍थ्‍य मंत्रालय ने कोविड-19 के मद्देनजर ...   \n",
      "23         24  गाज़ियाबाद अस्पताल में मरकज के मरीज नर्स के सा...   \n",
      "24         25  बिहार: 50 साल से ज्यादा उम्र के पुलिसकर्मियों ...   \n",
      "25         26  हमारे हिन्दू जाट भाईओ पर बोला गहलोत देख लो।। औ...   \n",
      "26         27  RT @mamta_meena1: लोगों को #जय_जोहार शब्द से क...   \n",
      "27         28  @RubikaLiyaquat ये कमीनी जिस दिन मरेगी उस दिन ...   \n",
      "28         29  #JNU में हुई #तोड़फोड़ के बाद #गर्ल्स हॉस्टल में...   \n",
      "29         30  दोस्तों मैंने इस्तीफा देकर सही किया ना?\\nअगर ह...   \n",
      "\n",
      "                   Labels Set  \\\n",
      "0   defamation,fake,offensive   \n",
      "1                 non-hostile   \n",
      "2                        hate   \n",
      "3                        fake   \n",
      "4                  defamation   \n",
      "5                 non-hostile   \n",
      "6                 non-hostile   \n",
      "7                   offensive   \n",
      "8                        fake   \n",
      "9        defamation,fake,hate   \n",
      "10                       fake   \n",
      "11                       hate   \n",
      "12                non-hostile   \n",
      "13  defamation,hate,offensive   \n",
      "14             hate,offensive   \n",
      "15                       fake   \n",
      "16                non-hostile   \n",
      "17                non-hostile   \n",
      "18                  offensive   \n",
      "19                  offensive   \n",
      "20                non-hostile   \n",
      "21                       hate   \n",
      "22                non-hostile   \n",
      "23                  fake,hate   \n",
      "24                non-hostile   \n",
      "25             fake,offensive   \n",
      "26                       hate   \n",
      "27                       hate   \n",
      "28                       fake   \n",
      "29                       fake   \n",
      "\n",
      "                                  translated_Language  \n",
      "0   Who wants employment, then say no, they do not...  \n",
      "1   Patna: Male and female constable shot suicide ...  \n",
      "2   If any Congressman is seen on a high roof, on ...  \n",
      "3   Underworld don Chhota Rajan's brother got tick...  \n",
      "4   RT @_Pb_swain_: Who can explain to these punct...  \n",
      "5   Maoists are back again in West Bengal, recent ...  \n",
      "6   #Breaking - Manoj Tiwari said on Kangana case ...  \n",
      "7   @BasudebaTripat4: @Rajanspsingh1 well done, br...  \n",
      "8   Maya Devi, sister of Hyderabad BJP MLA Raja Si...  \n",
      "9   During the rule of Kamal Nath, 100 units of el...  \n",
      "10  Dawood Ibrahim and his wife died of corona inf...  \n",
      "11  Modi ji did not do any such work that he could...  \n",
      "12  #Lucknow 2 people injured in truck collision, ...  \n",
      "13  @Dr_Uditraj @INCIndia Modi, son of traitor thi...  \n",
      "14  @ishiviparihar @Baklol801 Listen, bastard, you...  \n",
      "15  BMC's appeal: Drink hot water for the next sev...  \n",
      "16  \"I don't want to leave any legacy because this...  \n",
      "17  Mukesh Sahni challenged CM Nitish Kumar, said-...  \n",
      "18  You have to die everyday\\nto the guards on the...  \n",
      "19  @AMISHDEVGAN Dog's...... P?? You join BJP, why...  \n",
      "20  Patna: Another blow to Lalu, Tejashwi, Teghra ...  \n",
      "21  Raise your voice against the atrocities on the...  \n",
      "22  Health Ministry decides to appoint high level ...  \n",
      "23  Police made permanent tattoos for abusing and ...  \n",
      "24  Bihar: The work of policemen above 50 years of...  \n",
      "25  See Gehlot said on our Hindu Jat brothers. Vot...  \n",
      "26  RT @mamta_meena1: Why are people getting chill...  \n",
      "27  @RubikaLiyaquat Full party on the day this bas...  \n",
      "28  After the #vandalism in #JNU, the #stuff #scat...  \n",
      "29  Friends, did I do the right thing by resigning...  \n"
     ]
    }
   ],
   "source": [
    "print(dataframe)"
   ]
  },
  {
   "cell_type": "code",
   "execution_count": null,
   "metadata": {},
   "outputs": [],
   "source": []
  }
 ],
 "metadata": {
  "kernelspec": {
   "display_name": "Python 3",
   "language": "python",
   "name": "python3"
  },
  "language_info": {
   "codemirror_mode": {
    "name": "ipython",
    "version": 3
   },
   "file_extension": ".py",
   "mimetype": "text/x-python",
   "name": "python",
   "nbconvert_exporter": "python",
   "pygments_lexer": "ipython3",
   "version": "3.7.3"
  }
 },
 "nbformat": 4,
 "nbformat_minor": 4
}
